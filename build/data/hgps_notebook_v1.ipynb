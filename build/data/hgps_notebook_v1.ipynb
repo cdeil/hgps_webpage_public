{
 "cells": [
  {
   "cell_type": "markdown",
   "metadata": {},
   "source": [
    "# HGPS Jupyter notebook\n",
    "\n",
    "\n",
    "The H.E.S.S. Galactic Plane Survey (HGPS) is the first deep and wide survey of the Milky Way in TeV gamma-rays.\n",
    "\n",
    "This is a Jupyter notebook that illustrates how to work with the HGPS data from Python.\n",
    "\n",
    "The release data consistes of survey maps and a source catalog\n",
    "\n",
    "H.E.S.S. Galactic Plane Survey \n",
    "\n",
    "https://www.mpi-hd.mpg.de/hfm/HESS/hgps"
   ]
  },
  {
   "cell_type": "code",
   "execution_count": 1,
   "metadata": {},
   "outputs": [],
   "source": [
    "%matplotlib inline\n",
    "import matplotlib.pyplot as plt"
   ]
  },
  {
   "cell_type": "code",
   "execution_count": 2,
   "metadata": {},
   "outputs": [],
   "source": [
    "from astropy.io import fits\n",
    "from astropy.table import Table"
   ]
  },
  {
   "cell_type": "markdown",
   "metadata": {},
   "source": [
    "## Maps\n",
    "\n",
    "This section shows you how to ... <TODO>"
   ]
  },
  {
   "cell_type": "code",
   "execution_count": 3,
   "metadata": {},
   "outputs": [],
   "source": [
    "from gammapy.maps import Map"
   ]
  },
  {
   "cell_type": "code",
   "execution_count": 4,
   "metadata": {},
   "outputs": [],
   "source": [
    "survey_map = Map.read('../build/data/hgps_map_significance_0.1deg_v1.fits.gz')"
   ]
  },
  {
   "cell_type": "code",
   "execution_count": 5,
   "metadata": {},
   "outputs": [
    {
     "data": {
      "text/plain": [
       "array([73.72828], dtype=float32)"
      ]
     },
     "execution_count": 5,
     "metadata": {},
     "output_type": "execute_result"
    }
   ],
   "source": [
    "survey_map.get_by_coords((0, 0))"
   ]
  },
  {
   "cell_type": "markdown",
   "metadata": {},
   "source": [
    "## Catalog"
   ]
  },
  {
   "cell_type": "code",
   "execution_count": 6,
   "metadata": {},
   "outputs": [],
   "source": [
    "from gammapy.catalog import SourceCatalogHGPS"
   ]
  },
  {
   "cell_type": "code",
   "execution_count": 7,
   "metadata": {},
   "outputs": [],
   "source": [
    "cat = SourceCatalogHGPS()"
   ]
  },
  {
   "cell_type": "code",
   "execution_count": 8,
   "metadata": {},
   "outputs": [],
   "source": [
    "source = cat[0]"
   ]
  },
  {
   "cell_type": "code",
   "execution_count": 9,
   "metadata": {},
   "outputs": [
    {
     "name": "stdout",
     "output_type": "stream",
     "text": [
      "\n",
      "*** Basic info ***\n",
      "\n",
      "Catalog row index (zero-based) : 0\n",
      "Source name          : HESS J0835-455\n",
      "Analysis reference   : HGPS\n",
      "Source class         : PWN\n",
      "Identified object    : Vela X\n",
      "Gamma-Cat id         : 37\n",
      "\n",
      "\n",
      "*** Info from map analysis ***\n",
      "\n",
      "RA                   :  128.887 deg = 8h35m33s\n",
      "DEC                  :  -45.659 deg = -45d39m32s\n",
      "GLON                 :  263.960 +/- 0.025 deg\n",
      "GLAT                 :   -3.048 +/- 0.027 deg\n",
      "Position Error (68%) : 0.057 deg\n",
      "Position Error (95%) : 0.093 deg\n",
      "ROI number           : 18\n",
      "Spatial model        : 3-Gaussian\n",
      "Spatial components   : HGPSC 001, HGPSC 002, HGPSC 003\n",
      "TS                   : 1553.2\n",
      "sqrt(TS)             : 39.4\n",
      "Size                 : 0.585 +/- 0.052 (UL: nan) deg\n",
      "R70                  : 0.887 deg\n",
      "RSpec                : 0.500 deg\n",
      "Total model excess   : 8781.6\n",
      "Excess in RSpec      : 3580.1\n",
      "Model Excess in RSpec : 3637.4\n",
      "Background in RSpec  : 5936.9\n",
      "Livetime             : 64.9 hours\n",
      "Energy threshold     : 0.47 TeV\n",
      "Source flux (>1 TeV) : (15.362 +/- 0.534) x 10^-12 cm^-2 s^-1 = (67.97 +/- 2.36) % Crab\n",
      "\n",
      "Fluxes in RSpec (> 1 TeV):\n",
      "Map measurement                : 5.571 x 10^-12 cm^-2 s^-1 = 24.65 % Crab\n",
      "Source model                   : 5.659 x 10^-12 cm^-2 s^-1 = 25.04 % Crab\n",
      "Other component model          : 0.000 x 10^-12 cm^-2 s^-1 =  0.00 % Crab\n",
      "Large scale component model    : 0.000 x 10^-12 cm^-2 s^-1 =  0.00 % Crab\n",
      "Total model                    : 5.659 x 10^-12 cm^-2 s^-1 = 25.04 % Crab\n",
      "Containment in RSpec                :  36.8 %\n",
      "Contamination in RSpec              :   0.0 %\n",
      "Flux correction (RSpec -> Total)    : 271.4 %\n",
      "Flux correction (Total -> RSpec)    :  36.8 %\n",
      "\n",
      "*** Info from spectral analysis ***\n",
      "\n",
      "Livetime             : 18.8 hours\n",
      "Energy range:        : 0.29 to 61.90 TeV\n",
      "Background           : 9993.6\n",
      "Excess               : 2584.4\n",
      "Spectral model       : ECPL\n",
      "TS ECPL over PL      : 43.0\n",
      "Best-fit model flux(> 1 TeV) : (17.433 +/- 1.404) x 10^-12 cm^-2 s^-1  = (77.14 +/- 6.21) % Crab\n",
      "Best-fit model energy flux(1 to 10 TeV) : (76.057 +/- 7.100) x 10^-12 erg cm^-2 s^-1\n",
      "Pivot energy         : 3.02 TeV\n",
      "Flux at pivot energy : (1.833 +/- 0.070) x 10^-12 cm^-2 s^-1 TeV^-1  = (8.11 +/- 0.20) % Crab\n",
      "PL   Flux(> 1 TeV)   : (16.574 +/- 0.632) x 10^-12 cm^-2 s^-1  = (73.34 +/- 2.80) % Crab\n",
      "PL   Flux(@ 1 TeV)   : (14.805 +/- 0.737) x 10^-12 cm^-2 s^-1 TeV^-1  = (65.51 +/- 2.10) % Crab\n",
      "PL   Index           : 1.89 +/- 0.03\n",
      "ECPL   Flux(@ 1 TeV) : (12.089 +/- 0.869) x 10^-12 cm^-2 s^-1 TeV^-1  = (53.49 +/- 2.48) % Crab\n",
      "ECPL   Flux(> 1 TeV) : (17.433 +/- 1.404) x 10^-12 cm^-2 s^-1  = (77.14 +/- 6.21) % Crab\n",
      "ECPL Index           : 1.35 +/- 0.08\n",
      "ECPL Lambda          : 0.082 +/- 0.012 TeV^-1\n",
      "ECPL E_cut           : 12.27 +/- 1.74 TeV\n",
      "\n",
      "*** Flux points info ***\n",
      "\n",
      "Number of flux points: 6\n",
      "Flux points table: \n",
      "\n",
      "\te_ref  e_min  e_max        dnde         dnde_errn       dnde_errp        dnde_ul     is_ul\n",
      " TeV    TeV    TeV   1 / (cm2 s TeV) 1 / (cm2 s TeV) 1 / (cm2 s TeV) 1 / (cm2 s TeV)      \n",
      "------ ------ ------ --------------- --------------- --------------- --------------- -----\n",
      " 0.422  0.287  0.619       6.554e-11       1.050e-11       1.038e-11       8.637e-11 False\n",
      " 0.953  0.619  1.468       1.199e-11       1.292e-12       1.289e-12       1.453e-11 False\n",
      " 2.260  1.468  3.481       3.526e-12       2.358e-13       2.408e-13       4.018e-12 False\n",
      " 5.360  3.481  8.254       8.324e-13       5.496e-14       5.620e-14       9.496e-13 False\n",
      "12.711  8.254 19.573       1.596e-13       1.323e-14       1.349e-14       1.870e-13 False\n",
      "30.142 19.573 46.416       1.116e-14       2.189e-15       2.323e-15       1.599e-14 False\n",
      "\n",
      "*** Gaussian component info ***\n",
      "\n",
      "Number of components: 3\n",
      "Spatial components   : HGPSC 001, HGPSC 002, HGPSC 003\n",
      "\n",
      "Component HGPSC 001:\n",
      "GLON                 :  263.969 +/- 0.023 deg\n",
      "GLAT                 :   -3.344 +/- 0.027 deg\n",
      "Size                 : 0.237 +/- 0.023 deg\n",
      "Flux (>1 TeV)        : (2.76 +/- 0.52) x 10^-12 cm^-2 s^-1 = (12.2 +/- 2.3) % Crab\n",
      "\n",
      "Component HGPSC 002:\n",
      "GLON                 :  263.699 +/- 0.021 deg\n",
      "GLAT                 :   -2.827 +/- 0.037 deg\n",
      "Size                 : 0.156 +/- 0.018 deg\n",
      "Flux (>1 TeV)        : (1.08 +/- 0.21) x 10^-12 cm^-2 s^-1 = (4.8 +/- 0.9) % Crab\n",
      "\n",
      "Component HGPSC 003:\n",
      "GLON                 :  263.983 +/- 0.033 deg\n",
      "GLAT                 :   -2.997 +/- 0.046 deg\n",
      "Size                 : 0.650 +/- 0.027 deg\n",
      "Flux (>1 TeV)        : (11.52 +/- 0.73) x 10^-12 cm^-2 s^-1 = (51.0 +/- 3.2) % Crab\n",
      "\n",
      "\n",
      "*** Source associations info ***\n",
      "\n",
      "List of associated objects: 2FHL J0835.3-4511, 3FGL J0835.3-4510, G263.9-3.3, B0833-45\n",
      "\n"
     ]
    }
   ],
   "source": [
    "print(source)"
   ]
  },
  {
   "cell_type": "code",
   "execution_count": 10,
   "metadata": {},
   "outputs": [
    {
     "name": "stdout",
     "output_type": "stream",
     "text": [
      "ExponentialCutoffPowerLaw\n",
      "\n",
      "Parameters: \n",
      "\n",
      "\t   name     value     error         unit      min max frozen\n",
      "\t--------- --------- --------- --------------- --- --- ------\n",
      "\t    index 1.354e+00 7.733e-02                 nan nan  False\n",
      "\tamplitude 6.408e-12 3.260e-13 1 / (cm2 s TeV) nan nan  False\n",
      "\treference 1.697e+00 0.000e+00             TeV nan nan   True\n",
      "\t  lambda_ 8.152e-02 1.154e-02         1 / TeV nan nan  False\n",
      "\n",
      "Covariance: \n",
      "\n",
      "\tname/name  index  amplitude lambda_ \n",
      "\t--------- ------- --------- --------\n",
      "\t    index 0.00598       0.0      0.0\n",
      "\tamplitude     0.0  1.06e-25      0.0\n",
      "\t  lambda_     0.0       0.0 0.000133\n"
     ]
    }
   ],
   "source": [
    "print(source.spectral_model)"
   ]
  },
  {
   "cell_type": "code",
   "execution_count": 11,
   "metadata": {},
   "outputs": [
    {
     "data": {
      "text/html": [
       "<i>Table length=6</i>\n",
       "<table id=\"table4633382864\" class=\"table-striped table-bordered table-condensed\">\n",
       "<thead><tr><th>e_ref</th><th>e_min</th><th>e_max</th><th>dnde</th><th>dnde_errn</th><th>dnde_errp</th><th>dnde_ul</th><th>is_ul</th></tr></thead>\n",
       "<thead><tr><th>TeV</th><th>TeV</th><th>TeV</th><th>1 / (cm2 s TeV)</th><th>1 / (cm2 s TeV)</th><th>1 / (cm2 s TeV)</th><th>1 / (cm2 s TeV)</th><th></th></tr></thead>\n",
       "<thead><tr><th>float32</th><th>float32</th><th>float32</th><th>float32</th><th>float32</th><th>float32</th><th>float32</th><th>bool</th></tr></thead>\n",
       "<tr><td>0.4216965</td><td>0.28729847</td><td>0.6189658</td><td>6.5541766e-11</td><td>1.0499469e-11</td><td>1.037914e-11</td><td>8.636929e-11</td><td>False</td></tr>\n",
       "<tr><td>0.9531619</td><td>0.6189658</td><td>1.4677993</td><td>1.1986031e-11</td><td>1.2919824e-12</td><td>1.2886871e-12</td><td>1.4526381e-11</td><td>False</td></tr>\n",
       "<tr><td>2.260303</td><td>1.4677993</td><td>3.4807005</td><td>3.52555e-12</td><td>2.3576906e-13</td><td>2.4082174e-13</td><td>4.0178963e-12</td><td>False</td></tr>\n",
       "<tr><td>5.360023</td><td>3.4807005</td><td>8.254042</td><td>8.324112e-13</td><td>5.495922e-14</td><td>5.6203943e-14</td><td>9.495746e-13</td><td>False</td></tr>\n",
       "<tr><td>12.710618</td><td>8.254042</td><td>19.573418</td><td>1.5962396e-13</td><td>1.3232291e-14</td><td>1.3493189e-14</td><td>1.8696622e-13</td><td>False</td></tr>\n",
       "<tr><td>30.141624</td><td>19.573418</td><td>46.41589</td><td>1.11618885e-14</td><td>2.1889015e-15</td><td>2.3228553e-15</td><td>1.5994852e-14</td><td>False</td></tr>\n",
       "</table>"
      ],
      "text/plain": [
       "<Table length=6>\n",
       "  e_ref     e_min      e_max   ...    dnde_errp        dnde_ul     is_ul\n",
       "   TeV       TeV        TeV    ... 1 / (cm2 s TeV) 1 / (cm2 s TeV)      \n",
       " float32   float32    float32  ...     float32         float32      bool\n",
       "--------- ---------- --------- ... --------------- --------------- -----\n",
       "0.4216965 0.28729847 0.6189658 ...    1.037914e-11    8.636929e-11 False\n",
       "0.9531619  0.6189658 1.4677993 ...   1.2886871e-12   1.4526381e-11 False\n",
       " 2.260303  1.4677993 3.4807005 ...   2.4082174e-13   4.0178963e-12 False\n",
       " 5.360023  3.4807005  8.254042 ...   5.6203943e-14    9.495746e-13 False\n",
       "12.710618   8.254042 19.573418 ...   1.3493189e-14   1.8696622e-13 False\n",
       "30.141624  19.573418  46.41589 ...   2.3228553e-15   1.5994852e-14 False"
      ]
     },
     "execution_count": 11,
     "metadata": {},
     "output_type": "execute_result"
    }
   ],
   "source": [
    "source.flux_points.table"
   ]
  },
  {
   "cell_type": "code",
   "execution_count": null,
   "metadata": {},
   "outputs": [],
   "source": []
  }
 ],
 "metadata": {
  "kernelspec": {
   "display_name": "Python 3",
   "language": "python",
   "name": "python3"
  },
  "language_info": {
   "codemirror_mode": {
    "name": "ipython",
    "version": 3
   },
   "file_extension": ".py",
   "mimetype": "text/x-python",
   "name": "python",
   "nbconvert_exporter": "python",
   "pygments_lexer": "ipython3",
   "version": "3.6.4"
  }
 },
 "nbformat": 4,
 "nbformat_minor": 2
}
